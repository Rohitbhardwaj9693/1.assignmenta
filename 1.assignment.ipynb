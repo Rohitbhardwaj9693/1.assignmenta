{
 "cells": [
  {
   "cell_type": "markdown",
   "id": "d34e9f23-1c7d-43b3-acdb-f818a3fab8e0",
   "metadata": {},
   "source": [
    "                                          \n",
    "\n",
    "\n",
    "1> who develope python programing language\n",
    "ans :python was develop by Guido van Rossum in year 1991"
   ]
  },
  {
   "cell_type": "markdown",
   "id": "7e5f3811-7f22-41cc-b822-801fe6c1b97d",
   "metadata": {},
   "source": [
    "2> which type of programing dose python supprt\n",
    "ans: python suppot object oriented programing and structured programin\n",
    "\n",
    "3> is python is case sensitive where dealing with identifiers\n",
    "ans: yes python is a case sensitive language .its tresate uppercase asnd lowercase are dilfferent\n",
    "\n",
    "4> what is the correct extension of python file\n",
    "ans: .py is the correct extension of python file\n",
    "\n",
    "5> is python code compiled or intrupted\n",
    "ans: python is both compiled or intepruted language\n",
    "\n",
    "6> name of few block of code used to define in python language\n",
    "ans: a module ,a function bkody and class defination\n",
    "\n",
    "7> state a character use to give single line comment in python\n",
    "ans: # character\n",
    "\n",
    "8> mention function which cane help us to find the version of python that we are currently working\n",
    "ans: the function sys.version can help us to find version of python\n",
    "\n",
    "9> python support the creation of anonmous function at runtime ,using a construct called __________\n",
    "ans: lambda\n",
    "\n",
    "10> what dose pip stand for python\n",
    "ans: pip install paclages\n",
    "\n",
    "11> mention a few built in funstin in pytho\n",
    "ans:bool() = return bollen value\n",
    "    chr()  = return character\n",
    "    int() =  return as integer\n",
    "    input()= allowing user input\n",
    "\n",
    "12> wahat is the maximum possibule length of an identifier in python\n",
    "ans: 79 character\n",
    "\n",
    "13> what are the benifit of using python\n",
    "ans: it is largely used by professional programmers and develope web development and ml, data science\n",
    "\n",
    "14> how is memory manage in python \n",
    "ans: memory in python is managed by python private heap space\n",
    "\n",
    "15> is indetation required in python\n",
    "ans: inditaion in python is very umportant python use inditatin to indicate a block of code\n"
   ]
  },
  {
   "cell_type": "code",
   "execution_count": null,
   "id": "2b8dd477-8789-4c26-994c-447ec57016b4",
   "metadata": {},
   "outputs": [],
   "source": []
  }
 ],
 "metadata": {
  "kernelspec": {
   "display_name": "Python 3 (ipykernel)",
   "language": "python",
   "name": "python3"
  },
  "language_info": {
   "codemirror_mode": {
    "name": "ipython",
    "version": 3
   },
   "file_extension": ".py",
   "mimetype": "text/x-python",
   "name": "python",
   "nbconvert_exporter": "python",
   "pygments_lexer": "ipython3",
   "version": "3.10.8"
  }
 },
 "nbformat": 4,
 "nbformat_minor": 5
}
